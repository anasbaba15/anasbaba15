{
  "nbformat": 4,
  "nbformat_minor": 0,
  "metadata": {
    "colab": {
      "provenance": [],
      "authorship_tag": "ABX9TyOIIxstOBeUct6jBTLEqoht",
      "include_colab_link": true
    },
    "kernelspec": {
      "name": "python3",
      "display_name": "Python 3"
    },
    "language_info": {
      "name": "python"
    }
  },
  "cells": [
    {
      "cell_type": "markdown",
      "metadata": {
        "id": "view-in-github",
        "colab_type": "text"
      },
      "source": [
        "<a href=\"https://colab.research.google.com/github/anasbaba15/anasbaba15/blob/main/simple%20function%2002.ipynb\" target=\"_parent\"><img src=\"https://colab.research.google.com/assets/colab-badge.svg\" alt=\"Open In Colab\"/></a>"
      ]
    },
    {
      "cell_type": "code",
      "execution_count": null,
      "metadata": {
        "colab": {
          "base_uri": "https://localhost:8080/"
        },
        "id": "mPWdTYVc9us_",
        "outputId": "dd49982b-8987-4a6e-af56-b4ad6918e6e9"
      },
      "outputs": [
        {
          "output_type": "stream",
          "name": "stdout",
          "text": [
            "Anton is 21\n",
            "Beth is 27\n",
            "Chen is 47\n",
            "Drew is 68\n",
            "Ethan is 47\n"
          ]
        }
      ],
      "source": [
        "def main():\n",
        "    anton : int = 21\n",
        "    beth : int = 6 + anton\n",
        "    chen : int = 20 + beth\n",
        "    drew  : int= chen + anton\n",
        "    ethan : int = chen\n",
        "\n",
        "    print(\"Anton is \" + str(anton))\n",
        "    print(\"Beth is \" + str(beth))\n",
        "    print(\"Chen is \" + str(chen))\n",
        "    print(\"Drew is \" + str(drew))\n",
        "    print(\"Ethan is \" + str(ethan))\n",
        "\n",
        "\n",
        "if __name__ == '__main__':\n",
        "    main()"
      ]
    },
    {
      "cell_type": "code",
      "source": [
        "anton : int = 21\n",
        "beth : int = 6 + anton\n",
        "chen : int = 20 + beth\n",
        "drew  : int= chen + anton\n",
        "ethan : int = chen\n",
        "\n",
        "print(\"Anton is \" + str(anton))\n",
        "print(\"Beth is \" + str(beth))\n",
        "print(\"Chen is \" + str(chen))\n",
        "print(\"Drew is \" + str(drew))\n",
        "print(\"Ethan is \" + str(ethan))"
      ],
      "metadata": {
        "colab": {
          "base_uri": "https://localhost:8080/"
        },
        "id": "1vJ_r5xJAome",
        "outputId": "b88fdcbb-0d95-48d2-9504-8a63876b3a5d"
      },
      "execution_count": null,
      "outputs": [
        {
          "output_type": "stream",
          "name": "stdout",
          "text": [
            "Anton is 21\n",
            "Beth is 27\n",
            "Chen is 47\n",
            "Drew is 68\n",
            "Ethan is 47\n"
          ]
        }
      ]
    },
    {
      "cell_type": "code",
      "source": [],
      "metadata": {
        "id": "NY2Mb7nkByXu"
      },
      "execution_count": null,
      "outputs": []
    }
  ]
}