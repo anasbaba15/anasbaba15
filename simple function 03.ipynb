{
  "nbformat": 4,
  "nbformat_minor": 0,
  "metadata": {
    "colab": {
      "provenance": [],
      "authorship_tag": "ABX9TyPUzojG7UByP5Sdwbkmm07s",
      "include_colab_link": true
    },
    "kernelspec": {
      "name": "python3",
      "display_name": "Python 3"
    },
    "language_info": {
      "name": "python"
    }
  },
  "cells": [
    {
      "cell_type": "markdown",
      "metadata": {
        "id": "view-in-github",
        "colab_type": "text"
      },
      "source": [
        "<a href=\"https://colab.research.google.com/github/anasbaba15/anasbaba15/blob/main/simple%20function%2003.ipynb\" target=\"_parent\"><img src=\"https://colab.research.google.com/assets/colab-badge.svg\" alt=\"Open In Colab\"/></a>"
      ]
    },
    {
      "cell_type": "code",
      "execution_count": 5,
      "metadata": {
        "colab": {
          "base_uri": "https://localhost:8080/"
        },
        "id": "WFzMoLTmCsuu",
        "outputId": "4cffbbc7-8530-4d86-a82e-180200fe1242"
      },
      "outputs": [
        {
          "output_type": "stream",
          "name": "stdout",
          "text": [
            "Enter the length of 1st side? 3.3\n",
            "Enter the length of 2nd side? 3.3\n",
            "Enter the length of 3rd side? 3.5\n",
            "The total diameter of the triangle is: 10.1\n"
          ]
        }
      ],
      "source": [
        "def main():\n",
        "  first_side = float(input(\"Enter the length of 1st side? \"))\n",
        "  second_side = float(input(\"Enter the length of 2nd side? \"))\n",
        "  third_side = float(input(\"Enter the length of 3rd side? \"))\n",
        "\n",
        "  total_diameter = first_side + second_side + third_side\n",
        "  print(\"The total diameter of the triangle is:\", total_diameter)\n",
        "\n",
        "if __name__ == \"__main__\":\n",
        "  main()"
      ]
    },
    {
      "cell_type": "code",
      "source": [
        "    def main():\n",
        "\n",
        "      number_squired = float(input(\"write a number here \"))\n",
        "\n",
        "      print(f\"the squared number is {number_squired ** 2}\")\n",
        "\n",
        "\n",
        "    if __name__ == \"__main__\":\n",
        "      main()\n",
        "\n",
        "\n",
        "\n"
      ],
      "metadata": {
        "colab": {
          "base_uri": "https://localhost:8080/"
        },
        "id": "faxBQ5xqFY1k",
        "outputId": "c3cc5068-c37f-4366-ee73-1ffdb7927f4f"
      },
      "execution_count": 19,
      "outputs": [
        {
          "output_type": "stream",
          "name": "stdout",
          "text": [
            "write a number here 5\n",
            "the squared number is 25.0\n"
          ]
        }
      ]
    }
  ]
}