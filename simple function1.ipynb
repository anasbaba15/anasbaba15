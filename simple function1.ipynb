{
  "nbformat": 4,
  "nbformat_minor": 0,
  "metadata": {
    "colab": {
      "provenance": [],
      "authorship_tag": "ABX9TyNiUYByl/G+zBthIVRj//CU",
      "include_colab_link": true
    },
    "kernelspec": {
      "name": "python3",
      "display_name": "Python 3"
    },
    "language_info": {
      "name": "python"
    }
  },
  "cells": [
    {
      "cell_type": "markdown",
      "metadata": {
        "id": "view-in-github",
        "colab_type": "text"
      },
      "source": [
        "<a href=\"https://colab.research.google.com/github/anasbaba15/anasbaba15/blob/main/simple%20function1.ipynb\" target=\"_parent\"><img src=\"https://colab.research.google.com/assets/colab-badge.svg\" alt=\"Open In Colab\"/></a>"
      ]
    },
    {
      "cell_type": "markdown",
      "source": [],
      "metadata": {
        "id": "BOiQRxDWohaO"
      }
    },
    {
      "cell_type": "code",
      "execution_count": 9,
      "metadata": {
        "colab": {
          "base_uri": "https://localhost:8080/"
        },
        "id": "rPIF8CDabxjT",
        "outputId": "26cd4764-954c-445a-8a6a-2334d7fde6f3"
      },
      "outputs": [
        {
          "output_type": "stream",
          "name": "stdout",
          "text": [
            "what is your favorite animal?cow\n",
            "my favorite animal is also cow!\n"
          ]
        }
      ],
      "source": [
        "    def main():\n",
        "\n",
        "        favorite_animal = input (\"what is your favorite animal?\")\n",
        "\n",
        "        print(f\"my favorite animal is also {favorite_animal}!\")\n",
        "\n",
        "    if __name__ == \"__main__\":\n",
        "        main()"
      ]
    },
    {
      "cell_type": "markdown",
      "source": [],
      "metadata": {
        "id": "q5J_z95EohDB"
      }
    },
    {
      "cell_type": "code",
      "source": [],
      "metadata": {
        "id": "VqgICMcrfl99"
      },
      "execution_count": null,
      "outputs": []
    },
    {
      "cell_type": "code",
      "source": [
        "def main():\n",
        "\n",
        "    conversion_temperature = input (\"what is the temperature in fahrenheit?\")\n",
        "\n",
        "    celsius_to_fahrenheit = (int(conversion_temperature) - 32) * 5/9\n",
        "\n",
        "    themperatre_without_decimal = round(celsius_to_fahrenheit, 2)\n",
        "\n",
        "    print(f\"the temperature in celsius is {themperatre_without_decimal}C\")\n",
        "\n",
        "if __name__ == \"__main__\":\n",
        "    main()"
      ],
      "metadata": {
        "colab": {
          "base_uri": "https://localhost:8080/"
        },
        "id": "-eigfKYefnTe",
        "outputId": "12be6f92-4f92-4a94-9f92-22e8dd4f3210"
      },
      "execution_count": 20,
      "outputs": [
        {
          "output_type": "stream",
          "name": "stdout",
          "text": [
            "what is the temperature in fahrenheit?100\n",
            "the temperature in celsius is 37.78C\n"
          ]
        }
      ]
    }
  ]
}